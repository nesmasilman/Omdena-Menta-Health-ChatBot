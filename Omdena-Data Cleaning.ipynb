{
 "cells": [
  {
   "cell_type": "code",
   "execution_count": 1,
   "id": "68cda194",
   "metadata": {},
   "outputs": [],
   "source": [
    "import re\n",
    "import nltk\n",
    "import inflect\n",
    "from nltk import word_tokenize\n",
    "import string\n",
    "import inflect\n",
    "import pandas as pd"
   ]
  },
  {
   "cell_type": "code",
   "execution_count": 2,
   "id": "490d50b1",
   "metadata": {},
   "outputs": [
    {
     "name": "stderr",
     "output_type": "stream",
     "text": [
      "[nltk_data] Downloading package punkt to\n",
      "[nltk_data]     C:\\Users\\Nisma\\AppData\\Roaming\\nltk_data...\n",
      "[nltk_data]   Package punkt is already up-to-date!\n"
     ]
    },
    {
     "data": {
      "text/plain": [
       "True"
      ]
     },
     "execution_count": 2,
     "metadata": {},
     "output_type": "execute_result"
    }
   ],
   "source": [
    "nltk.download('punkt')"
   ]
  },
  {
   "cell_type": "code",
   "execution_count": 3,
   "id": "fc306c7d",
   "metadata": {},
   "outputs": [],
   "source": [
    "p = inflect.engine()\n",
    "def convert_number(text):\n",
    "    temp_str = text.split()\n",
    "    new_string = []\n",
    " \n",
    "    for word in temp_str:\n",
    "        if word.isdigit():\n",
    "            temp = p.number_to_words(word)\n",
    "            new_string.append(temp)\n",
    "        else:\n",
    "            new_string.append(word)\n",
    " \n",
    "    temp_str = ' '.join(new_string)\n",
    "    return temp_str"
   ]
  },
  {
   "cell_type": "code",
   "execution_count": 4,
   "id": "24563dd4",
   "metadata": {},
   "outputs": [],
   "source": [
    "punc= list(string.punctuation)"
   ]
  },
  {
   "cell_type": "code",
   "execution_count": 5,
   "id": "cc45db95",
   "metadata": {},
   "outputs": [],
   "source": [
    "def text_processing(row):\n",
    "    row['txt'] = row['text'].lower() # convert text to lower case\n",
    "    row['txt'] = convert_number(row['txt']) # convert number to text\n",
    "    row['txt'] = re.sub(r'https?:\\/\\/\\S+', '', row['txt']) # removes url\n",
    "    row['txt'] = re.sub(r\"\\s+[a-zA-Z]\\s+\", \" \", row['txt'])  # remove special characters \n",
    "    clean = re.compile('<.*?>') \n",
    "    row['txt'] = re.sub(clean, '', row['txt']) # remove HTML tags\n",
    "    row['txt'] = re.sub(r\"\\s+\",\" \", row['txt'], flags = re.I) # replace whitespace characters with a single space\n",
    "    row['txt'] = re.sub(r\"\\W\", \" \", row['txt'], flags=re.I)  # remove all non-word characters\n",
    "    post = word_tokenize(row['txt']) # get words from text\n",
    "    no_punc = [item for item in post if item not in punc] # remove punctuation\n",
    "    unique_words = list(set(no_punc)) # removes duplicated words\n",
    "    row['txt'] = \" \".join(unique_words) # Concatenate all words\n",
    "    return row['txt']"
   ]
  },
  {
   "cell_type": "markdown",
   "id": "155e9b7c",
   "metadata": {},
   "source": [
    "Let's test the function:"
   ]
  },
  {
   "cell_type": "code",
   "execution_count": 6,
   "id": "02d811bf",
   "metadata": {},
   "outputs": [
    {
     "data": {
      "text/plain": [
       "'will two or and html again text to check too trys queue one'"
      ]
     },
     "execution_count": 6,
     "metadata": {},
     "output_type": "execute_result"
    }
   ],
   "source": [
    "some_text='text OR WiLL CHECK, and. Trys 1 and 2 and &@*#($&^!%) and http://www.aaa.com again queue and too or to html<and>'\n",
    "df=pd.DataFrame({'text': [some_text]})\n",
    "df['new'] = df.apply(lambda row: text_processing(row), axis=1)\n",
    "df['new'][0]"
   ]
  }
 ],
 "metadata": {
  "kernelspec": {
   "display_name": "Python 3 (ipykernel)",
   "language": "python",
   "name": "python3"
  },
  "language_info": {
   "codemirror_mode": {
    "name": "ipython",
    "version": 3
   },
   "file_extension": ".py",
   "mimetype": "text/x-python",
   "name": "python",
   "nbconvert_exporter": "python",
   "pygments_lexer": "ipython3",
   "version": "3.10.9"
  }
 },
 "nbformat": 4,
 "nbformat_minor": 5
}
