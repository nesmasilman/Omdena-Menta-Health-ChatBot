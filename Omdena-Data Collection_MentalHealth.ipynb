{
 "cells": [
  {
   "cell_type": "code",
   "execution_count": 17,
   "id": "c6fbc2a1",
   "metadata": {},
   "outputs": [],
   "source": [
    "import praw"
   ]
  },
  {
   "cell_type": "code",
   "execution_count": 18,
   "id": "edba866c",
   "metadata": {},
   "outputs": [],
   "source": [
    "import pandas as pd\n",
    "import praw\n",
    "from praw.models import MoreComments\n",
    "import json,pprint "
   ]
  },
  {
   "cell_type": "code",
   "execution_count": 24,
   "id": "9492ede0",
   "metadata": {},
   "outputs": [],
   "source": [
    "secret = \"****\"\n",
    "client_id = \"****\"\n",
    "user = \"****\""
   ]
  },
  {
   "cell_type": "code",
   "execution_count": 20,
   "id": "3ba30842",
   "metadata": {},
   "outputs": [
    {
     "name": "stdout",
     "output_type": "stream",
     "text": [
      "True\n"
     ]
    }
   ],
   "source": [
    "reddit = praw.Reddit(\n",
    "                    client_id=client_id,\n",
    "                    client_secret=secret,\n",
    "                    user_agent=user,\n",
    "                )\n",
    "print(reddit.read_only)"
   ]
  },
  {
   "cell_type": "code",
   "execution_count": 21,
   "id": "2f1122a6",
   "metadata": {},
   "outputs": [
    {
     "name": "stdout",
     "output_type": "stream",
     "text": [
      "Display Name: MentalHealth\n",
      "Title: Mental Health\n",
      "Description: **Welcome!**\n",
      "This is a safe place to discuss, vent, support, and share information about mental heal ...\n"
     ]
    }
   ],
   "source": [
    "# working on subreddit Mental Health\n",
    "subreddit_name = 'MentalHealth'\n",
    "\n",
    "subreddit = reddit.subreddit(subreddit_name)\n",
    "\n",
    "print(\"Display Name:\", subreddit.display_name)\n",
    "print(\"Title:\", subreddit.title)\n",
    "print(\"Description:\", subreddit.description[:100], \"...\")"
   ]
  },
  {
   "cell_type": "code",
   "execution_count": 22,
   "id": "4e0a6a2c",
   "metadata": {},
   "outputs": [],
   "source": [
    "from datetime import datetime\n",
    "\n",
    "posts = []\n",
    "\n",
    "for rawpost in subreddit.new(limit=1000):\n",
    "    \n",
    "    posts.append({\n",
    "        'Post_id': rawpost.id,\n",
    "        'Title': rawpost.title,\n",
    "        'Author': rawpost.author.name if rawpost.author else 'Unknown',\n",
    "        'Timestamp': pd.to_datetime(rawpost.created_utc, unit='s').isoformat(), # Convert timestamp to datetime\n",
    "        'Text': rawpost.selftext,\n",
    "        'Score': rawpost.score,\n",
    "        'Total_comments': rawpost.num_comments\n",
    "    })\n",
    "        # Check if the post has comments\n",
    "    if rawpost.num_comments > 0:\n",
    "        # Scraping comments for each post\n",
    "        rawpost.comments.replace_more(limit= None)\n",
    "        for comment in rawpost.comments.list():\n",
    "            posts.append({\n",
    "                'Comment_id': comment.id,\n",
    "                'Author': comment.author.name if comment.author else 'Unknown',\n",
    "                'Timestamp': pd.to_datetime(comment.created_utc, unit='s').isoformat(),\n",
    "                'Text': comment.body,\n",
    "                'Score': comment.score\n",
    "            })"
   ]
  },
  {
   "cell_type": "code",
   "execution_count": 23,
   "id": "c5539b2c",
   "metadata": {},
   "outputs": [],
   "source": [
    "with open('MentalHealth.json', 'w', encoding='utf-8') as f:\n",
    "    json.dump(posts, f, ensure_ascii=False, indent=4)"
   ]
  },
  {
   "cell_type": "code",
   "execution_count": null,
   "id": "30e9efee",
   "metadata": {},
   "outputs": [],
   "source": []
  },
  {
   "cell_type": "code",
   "execution_count": null,
   "id": "881f63b9",
   "metadata": {},
   "outputs": [],
   "source": []
  }
 ],
 "metadata": {
  "kernelspec": {
   "display_name": "Python 3 (ipykernel)",
   "language": "python",
   "name": "python3"
  },
  "language_info": {
   "codemirror_mode": {
    "name": "ipython",
    "version": 3
   },
   "file_extension": ".py",
   "mimetype": "text/x-python",
   "name": "python",
   "nbconvert_exporter": "python",
   "pygments_lexer": "ipython3",
   "version": "3.10.9"
  }
 },
 "nbformat": 4,
 "nbformat_minor": 5
}
